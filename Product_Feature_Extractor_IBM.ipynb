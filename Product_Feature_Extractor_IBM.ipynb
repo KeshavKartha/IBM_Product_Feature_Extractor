{
    "metadata": {
        "kernelspec": {
            "name": "python3",
            "display_name": "Python 3.11",
            "language": "python"
        },
        "language_info": {
            "name": "python",
            "version": "3.11.13",
            "mimetype": "text/x-python",
            "codemirror_mode": {
                "name": "ipython",
                "version": 3
            },
            "pygments_lexer": "ipython3",
            "nbconvert_exporter": "python",
            "file_extension": ".py"
        }
    },
    "nbformat_minor": 4,
    "nbformat": 4,
    "cells": [
        {
            "cell_type": "code",
            "source": "\nimport os, types\nimport pandas as pd\nfrom botocore.client import Config\nimport ibm_boto3\n\ndef __iter__(self): return 0\n\n# @hidden_cell\n# The following code accesses a file in your IBM Cloud Object Storage. It includes your credentials.\n# You might want to remove those credentials before you share the notebook.\n\ncos_client = ibm_boto3.client(service_name='s3',\n    ibm_api_key_id='olO5QEbyWu8txtIKuMtgttD6eUb4txQJGmbr89xNeN0F',\n    ibm_auth_endpoint=\"https://iam.cloud.ibm.com/identity/token\",\n    config=Config(signature_version='oauth'),\n    endpoint_url='https://s3.direct.us-south.cloud-object-storage.appdomain.cloud')\n\nbucket = 'ibmgenai-donotdelete-pr-rvn0zdmzlfczpe'\nobject_key = 'product_reviews.csv'\n\nbody = cos_client.get_object(Bucket=bucket,Key=object_key)['Body']\n# add missing __iter__ method, so pandas accepts body as file-like object\nif not hasattr(body, \"__iter__\"): body.__iter__ = types.MethodType( __iter__, body )\n\ndf_1 = pd.read_csv(body)\ndf_1.head(10)\n",
            "metadata": {
                "id": "9cdbb38b-aef4-42aa-acc7-c5cca6acf1fe"
            },
            "outputs": [
                {
                    "execution_count": 1,
                    "output_type": "execute_result",
                    "data": {
                        "text/plain": "   review_id                                        review_text\n0          1  The camera quality is outstanding, especially ...\n1          2  I love the battery life\u2014it lasts me two full d...\n2          3  The screen is vibrant and sharp, but the refre...\n3          4  Performance is smooth even with multiple apps ...\n4          5  The speaker quality is poor and sounds distort...\n5          6  It charges super fast but the battery drains q...\n6          7  The phone feels premium in hand, and the desig...\n7          8  Face recognition works flawlessly but fingerpr...\n8          9  The display is crisp and very responsive to to...\n9         10  It heats up a bit during gaming but runs most ...",
                        "text/html": "<div>\n<style scoped>\n    .dataframe tbody tr th:only-of-type {\n        vertical-align: middle;\n    }\n\n    .dataframe tbody tr th {\n        vertical-align: top;\n    }\n\n    .dataframe thead th {\n        text-align: right;\n    }\n</style>\n<table border=\"1\" class=\"dataframe\">\n  <thead>\n    <tr style=\"text-align: right;\">\n      <th></th>\n      <th>review_id</th>\n      <th>review_text</th>\n    </tr>\n  </thead>\n  <tbody>\n    <tr>\n      <th>0</th>\n      <td>1</td>\n      <td>The camera quality is outstanding, especially ...</td>\n    </tr>\n    <tr>\n      <th>1</th>\n      <td>2</td>\n      <td>I love the battery life\u2014it lasts me two full d...</td>\n    </tr>\n    <tr>\n      <th>2</th>\n      <td>3</td>\n      <td>The screen is vibrant and sharp, but the refre...</td>\n    </tr>\n    <tr>\n      <th>3</th>\n      <td>4</td>\n      <td>Performance is smooth even with multiple apps ...</td>\n    </tr>\n    <tr>\n      <th>4</th>\n      <td>5</td>\n      <td>The speaker quality is poor and sounds distort...</td>\n    </tr>\n    <tr>\n      <th>5</th>\n      <td>6</td>\n      <td>It charges super fast but the battery drains q...</td>\n    </tr>\n    <tr>\n      <th>6</th>\n      <td>7</td>\n      <td>The phone feels premium in hand, and the desig...</td>\n    </tr>\n    <tr>\n      <th>7</th>\n      <td>8</td>\n      <td>Face recognition works flawlessly but fingerpr...</td>\n    </tr>\n    <tr>\n      <th>8</th>\n      <td>9</td>\n      <td>The display is crisp and very responsive to to...</td>\n    </tr>\n    <tr>\n      <th>9</th>\n      <td>10</td>\n      <td>It heats up a bit during gaming but runs most ...</td>\n    </tr>\n  </tbody>\n</table>\n</div>"
                    },
                    "metadata": {}
                }
            ],
            "execution_count": 1
        },
        {
            "cell_type": "code",
            "source": "",
            "metadata": {
                "id": "f4eece53-c35c-40cc-a47d-22ea885f8076"
            },
            "outputs": [],
            "execution_count": null
        },
        {
            "cell_type": "code",
            "source": "from ibm_watsonx_ai.foundation_models import ModelInference\nimport os, getpass\nimport pandas as pd\nimport time\n\n# Load your DataFrame (assuming it's already available as df_1)\ndf = df_1.copy()\ndf[\"extracted_features\"] = \"\"\n\n# Set up model credentials\ndef get_credentials():\n    return {\n        \"url\" : \"https://us-south.ml.cloud.ibm.com\",\n        \"apikey\" : getpass.getpass(\"Please enter your api key (hit enter): \")\n    }\n\nparameters = {\n    \"decoding_method\": \"greedy\",\n    \"max_new_tokens\": 30,\n    \"min_new_tokens\": 1,\n    \"stop_sequences\": [],\n    \"repetition_penalty\": 1\n}\n\nmodel = ModelInference(\n    #model_id = \"ibm/granite-3-8b-instruct\",\n    model_id = \"google/flan-t5-xl\",\n    params = parameters,\n    credentials = get_credentials(),\n    project_id = os.getenv('PROJECT_ID')  # Or paste it directly if needed\n)\n\n# Prompt template\nprompt_template = \"\"\"Extract the main product features mentioned in the customer review. Focus on technical or functional aspects like camera, battery, screen, design, etc.\n\nReview: \"The camera quality is outstanding, especially in low light conditions.\"\nFeatures: camera quality\n\nReview: \"I love the battery life\u2014it lasts me two full days without charging.\"\nFeatures: battery life\n\nReview: \"The screen is vibrant and sharp, but the refresh rate could be better.\"\nFeatures: screen, refresh rate\n\nReview: \"{review_text}\"\nFeatures:\"\"\"\n\n# Run inference for each review\nfor i, row in df.iterrows():\n    prompt = prompt_template.format(review_text=row[\"review_text\"])\n    try:\n        print(f\"Processing review_id={row['review_id']}...\")\n        response = model.generate_text(prompt=prompt, guardrails=True)\n        df.at[i, \"extracted_features\"] = response.strip()\n        time.sleep(0.5)  # To avoid hitting rate limits\n    except Exception as e:\n        df.at[i, \"extracted_features\"] = f\"Error: {str(e)}\"\n\n# View results\nprint(df[[\"review_id\", \"review_text\", \"extracted_features\"]])\n",
            "metadata": {
                "id": "bdc4ee4f-f8f9-42e5-bc98-eac1950c5c2f"
            },
            "outputs": [
                {
                    "output_type": "stream",
                    "name": "stdin",
                    "text": "Please enter your api key (hit enter):  \u00b7\u00b7\u00b7\u00b7\u00b7\u00b7\u00b7\u00b7\n"
                },
                {
                    "name": "stderr",
                    "text": "/opt/conda/envs/Python-RT24.1/lib/python3.11/site-packages/ibm_watsonx_ai/foundation_models/utils/utils.py:436: LifecycleWarning: Model 'google/flan-t5-xl' is in deprecated state from 2025-06-18 until 2025-10-15. IDs of alternative models: None. Further details: https://dataplatform.cloud.ibm.com/docs/content/wsj/analyze-data/fm-model-lifecycle.html?context=wx&audience=wdp\n  warn(model_state_warning, category=LifecycleWarning)\n",
                    "output_type": "stream"
                },
                {
                    "name": "stdout",
                    "text": "Processing review_id=1...\nProcessing review_id=2...\nProcessing review_id=3...\nProcessing review_id=4...\nProcessing review_id=5...\nProcessing review_id=6...\nProcessing review_id=7...\nProcessing review_id=8...\nProcessing review_id=9...\nProcessing review_id=10...\nProcessing review_id=11...\nProcessing review_id=12...\nProcessing review_id=13...\nProcessing review_id=14...\nProcessing review_id=15...\nProcessing review_id=16...\nProcessing review_id=17...\nProcessing review_id=18...\nProcessing review_id=19...\nProcessing review_id=20...\n    review_id                                        review_text  \\\n0           1  The camera quality is outstanding, especially ...   \n1           2  I love the battery life\u2014it lasts me two full d...   \n2           3  The screen is vibrant and sharp, but the refre...   \n3           4  Performance is smooth even with multiple apps ...   \n4           5  The speaker quality is poor and sounds distort...   \n5           6  It charges super fast but the battery drains q...   \n6           7  The phone feels premium in hand, and the desig...   \n7           8  Face recognition works flawlessly but fingerpr...   \n8           9  The display is crisp and very responsive to to...   \n9          10  It heats up a bit during gaming but runs most ...   \n10         11  Battery backup is okay, but I expected more fr...   \n11         12  Camera works great in daylight but struggles i...   \n12         13  I\u2019m happy with the software experience\u2014clean a...   \n13         14       The build quality feels cheap for the price.   \n14         15  Photos come out beautifully, but there's a sli...   \n15         16  The phone is fast, but it tends to stutter whe...   \n16         17  Color accuracy of the display is one of the be...   \n17         18  Audio output is good on headphones, but weak o...   \n18         19  Charging is fast, but the cable provided is to...   \n19         20     The UI is intuitive and animations are smooth.   \n\n                      extracted_features  \n0                         camera quality  \n1                           battery life  \n2                   screen, refresh rate  \n3                            performance  \n4                                speaker  \n5                                battery  \n6                                 design  \n7   face recognition, fingerprint sensor  \n8                                 screen  \n9                               heats up  \n10                               battery  \n11                                camera  \n12                              software  \n13                         build quality  \n14                                camera  \n15                                  fast  \n16                               display  \n17                                 audio  \n18                              charging  \n19                                    UI  \n",
                    "output_type": "stream"
                }
            ],
            "execution_count": 2
        },
        {
            "cell_type": "code",
            "source": "",
            "metadata": {
                "id": "ab5d4d0e-7178-49a0-9c68-7086c1e20072"
            },
            "outputs": [],
            "execution_count": null
        }
    ]
}